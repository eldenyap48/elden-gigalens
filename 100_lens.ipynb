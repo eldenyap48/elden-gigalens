{
 "cells": [
  {
   "cell_type": "code",
   "execution_count": 1,
   "id": "d3c9d24c-1e83-4914-9670-220208db9282",
   "metadata": {},
   "outputs": [
    {
     "name": "stdout",
     "output_type": "stream",
     "text": [
      "DEVELOPER MODE\n",
      "[CudaDevice(id=0), CudaDevice(id=1), CudaDevice(id=2), CudaDevice(id=3)]\n"
     ]
    }
   ],
   "source": [
    "from os.path import expanduser\n",
    "home = expanduser(\"~\")\n",
    "\n",
    "import sys\n",
    "\n",
    "dev = True\n",
    "\n",
    "if dev:\n",
    "    sys.path.insert(0, home+'/gigalens-elden-dev'+'/src')\n",
    "    print('DEVELOPER MODE')\n",
    "\n",
    "else:\n",
    "    sys.path.insert(0, home+'/gigalens'+'/src')\n",
    "    print('MASTER BRANCH GIGALENS')\n",
    "\n",
    "import jax\n",
    "print(jax.devices())"
   ]
  },
  {
   "cell_type": "code",
   "execution_count": 2,
   "id": "763cb213-55e8-4b59-893b-78f40dee8b4f",
   "metadata": {},
   "outputs": [
    {
     "name": "stderr",
     "output_type": "stream",
     "text": [
      "2025-04-18 17:24:10.531838: E external/local_xla/xla/stream_executor/cuda/cuda_fft.cc:477] Unable to register cuFFT factory: Attempting to register factory for plugin cuFFT when one has already been registered\n",
      "WARNING: All log messages before absl::InitializeLog() is called are written to STDERR\n",
      "E0000 00:00:1745022250.666859 1804144 cuda_dnn.cc:8310] Unable to register cuDNN factory: Attempting to register factory for plugin cuDNN when one has already been registered\n",
      "E0000 00:00:1745022250.700326 1804144 cuda_blas.cc:1418] Unable to register cuBLAS factory: Attempting to register factory for plugin cuBLAS when one has already been registered\n"
     ]
    }
   ],
   "source": [
    "from gigalens.jax.inference import ModellingSequence\n",
    "from gigalens.jax.model import ForwardProbModel, BackwardProbModel\n",
    "from gigalens.model import PhysicalModel\n",
    "from gigalens.jax.simulator import LensSimulator\n",
    "from gigalens.simulator import SimulatorConfig\n",
    "from gigalens.jax.profiles.light import sersic\n",
    "from gigalens.jax.profiles.mass import epl, shear\n",
    "\n",
    "import tensorflow_probability.substrates.jax as tfp\n",
    "import jax\n",
    "from jax import random\n",
    "import numpy as np\n",
    "import optax\n",
    "from jax import numpy as jnp\n",
    "from matplotlib import pyplot as plt\n",
    "import optax\n",
    "import jaxlib\n",
    "tfd = tfp.distributions\n",
    "\n",
    "import lenstronomy.Util.image_util as image_util\n",
    "import time"
   ]
  },
  {
   "cell_type": "markdown",
   "id": "8e6a9f63-16ff-49ee-9eb6-65c59930c48b",
   "metadata": {},
   "source": [
    "# Simulating 100 Systems"
   ]
  },
  {
   "cell_type": "code",
   "execution_count": 3,
   "id": "e5ad1d24-43d3-49e7-aa2e-5a344bb6974e",
   "metadata": {},
   "outputs": [],
   "source": [
    "sim_lens_prior = tfd.JointDistributionSequential(\n",
    "    [\n",
    "        tfd.JointDistributionNamed(\n",
    "            dict(\n",
    "                theta_E=tfd.LogNormal(jnp.log(1.25), 0.25),\n",
    "                gamma=tfd.TruncatedNormal(2, 0.25, 1, 3),\n",
    "                e1=tfd.Normal(0, 0.1),\n",
    "                e2=tfd.Normal(0, 0.1),\n",
    "                center_x=tfd.Normal(0, 0.03),\n",
    "                center_y=tfd.Normal(0, 0.03),\n",
    "            )\n",
    "        ),\n",
    "        tfd.JointDistributionNamed(\n",
    "            dict(gamma1=tfd.Normal(0, 0.05), gamma2=tfd.Normal(0, 0.05))\n",
    "        ),\n",
    "    ]\n",
    ")\n",
    "sim_lens_light_prior = tfd.JointDistributionSequential(\n",
    "    [\n",
    "        tfd.JointDistributionNamed(\n",
    "            dict(\n",
    "                R_sersic=tfd.LogNormal(jnp.log(1.6), 0.15),\n",
    "                n_sersic=tfd.Uniform(2, 6),\n",
    "                e1=tfd.TruncatedNormal(0, 0.05, -0.15, 0.15),\n",
    "                e2=tfd.TruncatedNormal(0, 0.05, -0.15, 0.15),\n",
    "                center_x=tfd.Normal(0, 0.01),\n",
    "                center_y=tfd.Normal(0, 0.01),\n",
    "                Ie=tfd.LogNormal(jnp.log(300.0), 0.3),\n",
    "            )\n",
    "        )\n",
    "    ]\n",
    ")\n",
    "\n",
    "sim_source_light_prior = tfd.JointDistributionSequential(\n",
    "    [\n",
    "        tfd.JointDistributionNamed(\n",
    "            dict(\n",
    "                R_sersic=tfd.LogNormal(jnp.log(0.25), 0.15),\n",
    "                n_sersic=tfd.Uniform(0.5, 4),\n",
    "                e1=tfd.TruncatedNormal(0, 0.15, -0.5, 0.5),\n",
    "                e2=tfd.TruncatedNormal(0, 0.15, -0.5, 0.5),\n",
    "                center_x=tfd.Normal(0, 0.25),\n",
    "                center_y=tfd.Normal(0, 0.25),\n",
    "                Ie=tfd.LogNormal(jnp.log(150.0), 0.5),\n",
    "            )\n",
    "        )\n",
    "    ]\n",
    ")\n",
    "\n",
    "sim_prior = tfd.JointDistributionSequential(\n",
    "    [sim_lens_prior, sim_lens_light_prior, sim_source_light_prior]\n",
    ")"
   ]
  },
  {
   "cell_type": "code",
   "execution_count": 4,
   "id": "85861cd5-2828-414c-975f-a346ce6d9e51",
   "metadata": {},
   "outputs": [],
   "source": [
    "# Extract ith value from the dictionary\n",
    "def extract_value(data, i):\n",
    "    if isinstance(data, list):  # If data is a list, iterate over it\n",
    "        return [extract_value(item, i) for item in data]\n",
    "    elif isinstance(data, dict):  # If data is a dictionary, process each key-value pair\n",
    "        return {key: extract_value(value, i) for key, value in data.items()}\n",
    "    elif isinstance(data, jaxlib.xla_extension.ArrayImpl):  # If data is a numpy array, extract the first element\n",
    "        return data[i]\n",
    "    else:\n",
    "        return data  # If it's neither a list, dict, nor ndarray, return as is\n",
    "\n",
    "# Returns the noise contributed by Poisson shot noise and background Gaussian noise\n",
    "def add_noise(image, sigma_bkd, exp_time):\n",
    "\n",
    "    sigma_poisson = np.sqrt(np.abs(image) / exp_time)\n",
    "    sigma = (sigma_bkd ** 2 + sigma_poisson ** 2) ** (1/2)\n",
    "    nx, ny = np.shape(image)\n",
    "    noise = np.random.randn(nx, ny) * sigma\n",
    "    \n",
    "    return noise"
   ]
  },
  {
   "cell_type": "code",
   "execution_count": 14,
   "id": "5a611c78-999f-40c9-b19a-5d18b619de00",
   "metadata": {},
   "outputs": [],
   "source": [
    "kernel = np.load('./assets/psf.npy').astype(np.float32)\n",
    "sim_config = SimulatorConfig(delta_pix=0.065, num_pix=60, supersample=2, kernel=kernel)\n",
    "phys_model = PhysicalModel([epl.EPL(50), shear.Shear()], [sersic.SersicEllipse(use_lstsq=False)], [sersic.SersicEllipse(use_lstsq=False)])\n",
    "lens_sim = LensSimulator(phys_model, sim_config, bs=1)\n",
    "\n",
    "# Sample 100 systems\n",
    "num_systems = 100\n",
    "key = jax.random.PRNGKey(412)\n",
    "samples = sim_prior.sample(sample_shape=[num_systems], seed=key)\n",
    "\n",
    "# Poisson shot and background noise\n",
    "exp_time = 100\n",
    "background_rms = 0.2\n",
    "\n",
    "# Simulate 100 systems with noise\n",
    "simulations = []\n",
    "for i in range(num_systems):\n",
    "    sample = extract_value(samples, i)\n",
    "    simulated = lens_sim.simulate(sample)\n",
    "    simulated_noisy = simulated + add_noise(simulated, background_rms, exp_time)\n",
    "    simulations.append(simulated_noisy)\n",
    "simulations = np.array(simulations)"
   ]
  },
  {
   "cell_type": "code",
   "execution_count": 15,
   "id": "ac375ba1-1cc6-4a87-87d3-a6b3c4154ea7",
   "metadata": {},
   "outputs": [
    {
     "data": {
      "text/plain": [
       "<matplotlib.image.AxesImage at 0x7fe1544e9490>"
      ]
     },
     "execution_count": 15,
     "metadata": {},
     "output_type": "execute_result"
    },
    {
     "data": {
      "image/png": "[encoded data removed]",
      "text/plain": [
       "<Figure size 640x480 with 1 Axes>"
      ]
     },
     "metadata": {},
     "output_type": "display_data"
    }
   ],
   "source": [
    "plt.imshow(simulations[20])"
   ]
  },
  {
   "cell_type": "code",
   "execution_count": 12,
   "id": "57ef6413-c5c5-4483-bfbb-4414dcb3053b",
   "metadata": {},
   "outputs": [
    {
     "data": {
      "text/plain": [
       "array([[ 0.39671457,  0.31054443,  0.40046638, ...,  0.52795106,\n",
       "        -0.01491842, -0.10556367],\n",
       "       [ 0.15486766,  0.23638925,  0.46886772, ...,  0.45554402,\n",
       "         0.45668027,  0.41732264],\n",
       "       [ 0.13839154,  0.22463493,  0.30897138, ...,  0.4577932 ,\n",
       "         0.5585906 ,  0.2243412 ],\n",
       "       ...,\n",
       "       [ 0.37676203,  0.23150642,  0.65794176, ...,  0.0582954 ,\n",
       "         0.43077537,  0.30901933],\n",
       "       [ 0.25306514,  0.18494777, -0.2613535 , ...,  0.5455398 ,\n",
       "         0.27438796,  0.24001805],\n",
       "       [ 0.17650849,  0.4160174 ,  0.34633493, ...,  0.3366125 ,\n",
       "         0.5317515 ,  0.7073512 ]], dtype=float32)"
      ]
     },
     "execution_count": 12,
     "metadata": {},
     "output_type": "execute_result"
    }
   ],
   "source": [
    "simulations[0]"
   ]
  },
  {
   "cell_type": "markdown",
   "id": "e23dff20-65cd-480d-9798-bc9e296bd07b",
   "metadata": {},
   "source": [
    "# Modeling 100 Systems"
   ]
  },
  {
   "cell_type": "code",
   "execution_count": 8,
   "id": "05dbff90-b8aa-444e-9490-4fa48f24b09b",
   "metadata": {},
   "outputs": [],
   "source": [
    "lens_prior = tfd.JointDistributionSequential(\n",
    "    [\n",
    "        tfd.JointDistributionNamed(\n",
    "            dict(\n",
    "                theta_E=tfd.LogNormal(jnp.log(1.25), 0.40),\n",
    "                gamma=tfd.TruncatedNormal(2, 0.5, 1, 3),\n",
    "                e1=tfd.Normal(0, 0.2),\n",
    "                e2=tfd.Normal(0, 0.2),\n",
    "                center_x=tfd.Normal(0, 0.06),\n",
    "                center_y=tfd.Normal(0, 0.06),\n",
    "            )\n",
    "        ),\n",
    "        tfd.JointDistributionNamed(\n",
    "            dict(gamma1=tfd.Normal(0, 0.1), gamma2=tfd.Normal(0, 0.1))\n",
    "        ),\n",
    "    ]\n",
    ")\n",
    "lens_light_prior = tfd.JointDistributionSequential(\n",
    "    [\n",
    "        tfd.JointDistributionNamed(\n",
    "            dict(\n",
    "                R_sersic=tfd.LogNormal(jnp.log(1.6), 0.25),\n",
    "                n_sersic=tfd.Uniform(0.5, 8),\n",
    "                e1=tfd.TruncatedNormal(0, 0.1, -0.15, 0.15),\n",
    "                e2=tfd.TruncatedNormal(0, 0.1, -0.15, 0.15),\n",
    "                center_x=tfd.Normal(0, 0.02),\n",
    "                center_y=tfd.Normal(0, 0.02),\n",
    "                Ie=tfd.LogNormal(jnp.log(300.0), 0.5),\n",
    "            )\n",
    "        )\n",
    "    ]\n",
    ")\n",
    "\n",
    "source_light_prior = tfd.JointDistributionSequential(\n",
    "    [\n",
    "        tfd.JointDistributionNamed(\n",
    "            dict(\n",
    "                R_sersic=tfd.LogNormal(jnp.log(0.25), 0.25),\n",
    "                n_sersic=tfd.Uniform(0.5, 8),\n",
    "                e1=tfd.TruncatedNormal(0, 0.3, -0.5, 0.5),\n",
    "                e2=tfd.TruncatedNormal(0, 0.3, -0.5, 0.5),\n",
    "                center_x=tfd.Normal(0, 0.5),\n",
    "                center_y=tfd.Normal(0, 0.5),\n",
    "                Ie=tfd.LogNormal(jnp.log(150.0), 0.9),\n",
    "            )\n",
    "        )\n",
    "    ]\n",
    ")\n",
    "\n",
    "prior = tfd.JointDistributionSequential(\n",
    "    [lens_prior, lens_light_prior, source_light_prior]\n",
    ")"
   ]
  },
  {
   "cell_type": "code",
   "execution_count": 9,
   "id": "d84f52b5-68f9-4bf7-a565-a6daec7e4492",
   "metadata": {},
   "outputs": [
    {
     "data": {
      "application/json": {
       "ascii": false,
       "bar_format": null,
       "colour": null,
       "elapsed": 0.003286600112915039,
       "initial": 0,
       "n": 0,
       "ncols": null,
       "nrows": null,
       "postfix": null,
       "prefix": "",
       "rate": null,
       "total": 1400,
       "unit": "it",
       "unit_divisor": 1000,
       "unit_scale": false
      },
      "application/vnd.jupyter.widget-view+json": {
       "model_id": "c6f8c4fb736f4b48bbb7327babcaf87a",
       "version_major": 2,
       "version_minor": 0
      },
      "text/plain": [
       "  0%|          | 0/1400 [00:00<?, ?it/s]"
      ]
     },
     "metadata": {},
     "output_type": "display_data"
    },
    {
     "name": "stderr",
     "output_type": "stream",
     "text": [
      "2025-04-18 17:25:01.034842: E external/xla/xla/service/slow_operation_alarm.cc:73] Trying algorithm eng41{k2=8,k12=1,k13=1,k14=4,k15=0,k17=1,k18=1,k22=0,k23=0} for conv %cudnn-conv = (f32[125,1,120,120]{3,2,1,0}, u8[0]{0}) custom-call(f32[125,1,120,120]{3,2,1,0} %bitcast.12207, f32[1,1,25,25]{3,2,1,0} %bitcast.12208), window={size=25x25 pad=12_12x12_12}, dim_labels=bf01_oi01->bf01, custom_call_target=\"__cudnn$convForward\", metadata={op_name=\"pmap(loss)/jit(main)/jvp(jit(log_prob))/jit(simulate)/conv_general_dilated\" source_file=\"/global/homes/e/eldenyap/gigalens-elden-dev/src/gigalens/jax/simulator.py\" source_line=80}, backend_config={\"operation_queue_id\":\"0\",\"wait_on_operation_queues\":[],\"cudnn_conv_backend_config\":{\"conv_result_scale\":1,\"activation_mode\":\"kNone\",\"side_input_scale\":0,\"leakyrelu_alpha\":0},\"force_earliest_schedule\":false} is taking a while...\n",
      "2025-04-18 17:25:01.087030: E external/xla/xla/service/slow_operation_alarm.cc:140] The operation took 1.052310201s\n",
      "Trying algorithm eng41{k2=8,k12=1,k13=1,k14=4,k15=0,k17=1,k18=1,k22=0,k23=0} for conv %cudnn-conv = (f32[125,1,120,120]{3,2,1,0}, u8[0]{0}) custom-call(f32[125,1,120,120]{3,2,1,0} %bitcast.12207, f32[1,1,25,25]{3,2,1,0} %bitcast.12208), window={size=25x25 pad=12_12x12_12}, dim_labels=bf01_oi01->bf01, custom_call_target=\"__cudnn$convForward\", metadata={op_name=\"pmap(loss)/jit(main)/jvp(jit(log_prob))/jit(simulate)/conv_general_dilated\" source_file=\"/global/homes/e/eldenyap/gigalens-elden-dev/src/gigalens/jax/simulator.py\" source_line=80}, backend_config={\"operation_queue_id\":\"0\",\"wait_on_operation_queues\":[],\"cudnn_conv_backend_config\":{\"conv_result_scale\":1,\"activation_mode\":\"kNone\",\"side_input_scale\":0,\"leakyrelu_alpha\":0},\"force_earliest_schedule\":false} is taking a while...\n",
      "2025-04-18 17:25:02.087190: E external/xla/xla/service/slow_operation_alarm.cc:73] Trying algorithm eng39{k2=8,k12=1,k13=1,k14=4,k15=0,k17=1,k18=1,k23=0} for conv %cudnn-conv = (f32[125,1,120,120]{3,2,1,0}, u8[0]{0}) custom-call(f32[125,1,120,120]{3,2,1,0} %bitcast.12207, f32[1,1,25,25]{3,2,1,0} %bitcast.12208), window={size=25x25 pad=12_12x12_12}, dim_labels=bf01_oi01->bf01, custom_call_target=\"__cudnn$convForward\", metadata={op_name=\"pmap(loss)/jit(main)/jvp(jit(log_prob))/jit(simulate)/conv_general_dilated\" source_file=\"/global/homes/e/eldenyap/gigalens-elden-dev/src/gigalens/jax/simulator.py\" source_line=80}, backend_config={\"operation_queue_id\":\"0\",\"wait_on_operation_queues\":[],\"cudnn_conv_backend_config\":{\"conv_result_scale\":1,\"activation_mode\":\"kNone\",\"side_input_scale\":0,\"leakyrelu_alpha\":0},\"force_earliest_schedule\":false} is taking a while...\n",
      "2025-04-18 17:25:02.198095: E external/xla/xla/service/slow_operation_alarm.cc:140] The operation took 1.110966599s\n",
      "Trying algorithm eng39{k2=8,k12=1,k13=1,k14=4,k15=0,k17=1,k18=1,k23=0} for conv %cudnn-conv = (f32[125,1,120,120]{3,2,1,0}, u8[0]{0}) custom-call(f32[125,1,120,120]{3,2,1,0} %bitcast.12207, f32[1,1,25,25]{3,2,1,0} %bitcast.12208), window={size=25x25 pad=12_12x12_12}, dim_labels=bf01_oi01->bf01, custom_call_target=\"__cudnn$convForward\", metadata={op_name=\"pmap(loss)/jit(main)/jvp(jit(log_prob))/jit(simulate)/conv_general_dilated\" source_file=\"/global/homes/e/eldenyap/gigalens-elden-dev/src/gigalens/jax/simulator.py\" source_line=80}, backend_config={\"operation_queue_id\":\"0\",\"wait_on_operation_queues\":[],\"cudnn_conv_backend_config\":{\"conv_result_scale\":1,\"activation_mode\":\"kNone\",\"side_input_scale\":0,\"leakyrelu_alpha\":0},\"force_earliest_schedule\":false} is taking a while...\n"
     ]
    },
    {
     "name": "stdout",
     "output_type": "stream",
     "text": [
      "MAP time: 41.41 s\n"
     ]
    }
   ],
   "source": [
    "# prior, observed_image, background_rms (estimated background Gaussian noise level), exp_time (exposure time used for calculating Poisson shot noise)\n",
    "prob_model = ForwardProbModel(prior, simulations[20], background_rms=0.2, exp_time=100)\n",
    "\n",
    "# Physical model of the lensing system, probabilistic model of the data we are fitting, parameters for image simulation\n",
    "model_seq = ModellingSequence(phys_model, prob_model, sim_config)\n",
    "\n",
    "schedule_fn = optax.polynomial_schedule(init_value=-1e-2, end_value=-1e-2/3, \n",
    "                                      power=0.5, transition_steps=500)\n",
    "opt = optax.chain(\n",
    "  optax.scale_by_adam(),\n",
    "  optax.scale_by_schedule(schedule_fn),\n",
    ")\n",
    "\n",
    "start_time = time.time()\n",
    "\n",
    "# Default num_steps is 350, default number of gradient descent samples is 500\n",
    "map_estimate, cross_chi_squared = model_seq.MAP(opt, seed=0, num_steps=1400)\n",
    "\n",
    "print(f\"MAP time: {(time.time() - start_time):.2f} s\")"
   ]
  },
  {
   "cell_type": "code",
   "execution_count": 10,
   "id": "dd8a62ac-f689-4a46-848b-05ea7ecc1896",
   "metadata": {},
   "outputs": [
    {
     "name": "stderr",
     "output_type": "stream",
     "text": [
      "2025-04-18 17:25:40.612872: E external/xla/xla/service/slow_operation_alarm.cc:73] Trying algorithm eng36{k2=5,k13=1,k14=3,k18=1,k23=0} for conv %cudnn-conv = (f32[500,1,120,120]{3,2,1,0}, u8[0]{0}) custom-call(f32[500,1,120,120]{3,2,1,0} %bitcast.5016, f32[1,1,25,25]{3,2,1,0} %bitcast.5017), window={size=25x25 pad=12_12x12_12}, dim_labels=bf01_oi01->bf01, custom_call_target=\"__cudnn$convForward\", metadata={op_name=\"jit(log_prob)/jit(main)/jit(simulate)/conv_general_dilated\" source_file=\"/global/homes/e/eldenyap/gigalens-elden-dev/src/gigalens/jax/simulator.py\" source_line=80}, backend_config={\"operation_queue_id\":\"0\",\"wait_on_operation_queues\":[],\"cudnn_conv_backend_config\":{\"conv_result_scale\":1,\"activation_mode\":\"kNone\",\"side_input_scale\":0,\"leakyrelu_alpha\":0},\"force_earliest_schedule\":false} is taking a while...\n",
      "2025-04-18 17:25:41.006724: E external/xla/xla/service/slow_operation_alarm.cc:140] The operation took 1.393889866s\n",
      "Trying algorithm eng36{k2=5,k13=1,k14=3,k18=1,k23=0} for conv %cudnn-conv = (f32[500,1,120,120]{3,2,1,0}, u8[0]{0}) custom-call(f32[500,1,120,120]{3,2,1,0} %bitcast.5016, f32[1,1,25,25]{3,2,1,0} %bitcast.5017), window={size=25x25 pad=12_12x12_12}, dim_labels=bf01_oi01->bf01, custom_call_target=\"__cudnn$convForward\", metadata={op_name=\"jit(log_prob)/jit(main)/jit(simulate)/conv_general_dilated\" source_file=\"/global/homes/e/eldenyap/gigalens-elden-dev/src/gigalens/jax/simulator.py\" source_line=80}, backend_config={\"operation_queue_id\":\"0\",\"wait_on_operation_queues\":[],\"cudnn_conv_backend_config\":{\"conv_result_scale\":1,\"activation_mode\":\"kNone\",\"side_input_scale\":0,\"leakyrelu_alpha\":0},\"force_earliest_schedule\":false} is taking a while...\n",
      "2025-04-18 17:25:43.233774: E external/xla/xla/service/slow_operation_alarm.cc:73] Trying algorithm eng41{k2=8,k12=1,k13=1,k14=4,k15=0,k17=1,k18=1,k22=0,k23=0} for conv %cudnn-conv = (f32[500,1,120,120]{3,2,1,0}, u8[0]{0}) custom-call(f32[500,1,120,120]{3,2,1,0} %bitcast.5016, f32[1,1,25,25]{3,2,1,0} %bitcast.5017), window={size=25x25 pad=12_12x12_12}, dim_labels=bf01_oi01->bf01, custom_call_target=\"__cudnn$convForward\", metadata={op_name=\"jit(log_prob)/jit(main)/jit(simulate)/conv_general_dilated\" source_file=\"/global/homes/e/eldenyap/gigalens-elden-dev/src/gigalens/jax/simulator.py\" source_line=80}, backend_config={\"operation_queue_id\":\"0\",\"wait_on_operation_queues\":[],\"cudnn_conv_backend_config\":{\"conv_result_scale\":1,\"activation_mode\":\"kNone\",\"side_input_scale\":0,\"leakyrelu_alpha\":0},\"force_earliest_schedule\":false} is taking a while...\n",
      "2025-04-18 17:25:46.436041: E external/xla/xla/service/slow_operation_alarm.cc:140] The operation took 4.20232982s\n",
      "Trying algorithm eng41{k2=8,k12=1,k13=1,k14=4,k15=0,k17=1,k18=1,k22=0,k23=0} for conv %cudnn-conv = (f32[500,1,120,120]{3,2,1,0}, u8[0]{0}) custom-call(f32[500,1,120,120]{3,2,1,0} %bitcast.5016, f32[1,1,25,25]{3,2,1,0} %bitcast.5017), window={size=25x25 pad=12_12x12_12}, dim_labels=bf01_oi01->bf01, custom_call_target=\"__cudnn$convForward\", metadata={op_name=\"jit(log_prob)/jit(main)/jit(simulate)/conv_general_dilated\" source_file=\"/global/homes/e/eldenyap/gigalens-elden-dev/src/gigalens/jax/simulator.py\" source_line=80}, backend_config={\"operation_queue_id\":\"0\",\"wait_on_operation_queues\":[],\"cudnn_conv_backend_config\":{\"conv_result_scale\":1,\"activation_mode\":\"kNone\",\"side_input_scale\":0,\"leakyrelu_alpha\":0},\"force_earliest_schedule\":false} is taking a while...\n",
      "2025-04-18 17:25:47.436187: E external/xla/xla/service/slow_operation_alarm.cc:73] Trying algorithm eng39{k2=8,k12=1,k13=1,k14=4,k15=0,k17=1,k18=1,k23=0} for conv %cudnn-conv = (f32[500,1,120,120]{3,2,1,0}, u8[0]{0}) custom-call(f32[500,1,120,120]{3,2,1,0} %bitcast.5016, f32[1,1,25,25]{3,2,1,0} %bitcast.5017), window={size=25x25 pad=12_12x12_12}, dim_labels=bf01_oi01->bf01, custom_call_target=\"__cudnn$convForward\", metadata={op_name=\"jit(log_prob)/jit(main)/jit(simulate)/conv_general_dilated\" source_file=\"/global/homes/e/eldenyap/gigalens-elden-dev/src/gigalens/jax/simulator.py\" source_line=80}, backend_config={\"operation_queue_id\":\"0\",\"wait_on_operation_queues\":[],\"cudnn_conv_backend_config\":{\"conv_result_scale\":1,\"activation_mode\":\"kNone\",\"side_input_scale\":0,\"leakyrelu_alpha\":0},\"force_earliest_schedule\":false} is taking a while...\n",
      "2025-04-18 17:25:50.872614: E external/xla/xla/service/slow_operation_alarm.cc:140] The operation took 4.436448464s\n",
      "Trying algorithm eng39{k2=8,k12=1,k13=1,k14=4,k15=0,k17=1,k18=1,k23=0} for conv %cudnn-conv = (f32[500,1,120,120]{3,2,1,0}, u8[0]{0}) custom-call(f32[500,1,120,120]{3,2,1,0} %bitcast.5016, f32[1,1,25,25]{3,2,1,0} %bitcast.5017), window={size=25x25 pad=12_12x12_12}, dim_labels=bf01_oi01->bf01, custom_call_target=\"__cudnn$convForward\", metadata={op_name=\"jit(log_prob)/jit(main)/jit(simulate)/conv_general_dilated\" source_file=\"/global/homes/e/eldenyap/gigalens-elden-dev/src/gigalens/jax/simulator.py\" source_line=80}, backend_config={\"operation_queue_id\":\"0\",\"wait_on_operation_queues\":[],\"cudnn_conv_backend_config\":{\"conv_result_scale\":1,\"activation_mode\":\"kNone\",\"side_input_scale\":0,\"leakyrelu_alpha\":0},\"force_earliest_schedule\":false} is taking a while...\n"
     ]
    }
   ],
   "source": [
    "lps = prob_model.log_prob(LensSimulator(phys_model, sim_config, bs=500), map_estimate)[0]\n",
    "best_MAP = map_estimate[jnp.argmax(lps)][jnp.newaxis,:]\n",
    "\n",
    "# argmaxnan()"
   ]
  },
  {
   "cell_type": "code",
   "execution_count": 34,
   "id": "92904665-f816-478f-b52e-eb19cbfa5e73",
   "metadata": {},
   "outputs": [
    {
     "data": {
      "text/plain": [
       "Array([[        nan,         nan,         nan,         nan,         nan,\n",
       "                nan,         nan,         nan,  5.7037797 ,  0.615148  ,\n",
       "        -0.01474124,  0.01744337, -0.4727807 ,  2.2265177 , -0.62991744,\n",
       "                nan,         nan,         nan,         nan,         nan,\n",
       "                nan,         nan]], dtype=float32)"
      ]
     },
     "execution_count": 34,
     "metadata": {},
     "output_type": "execute_result"
    }
   ],
   "source": [
    "best_MAP"
   ]
  },
  {
   "cell_type": "code",
   "execution_count": 33,
   "id": "5a7eb9bf-74c4-43cc-816e-977bf278f9b2",
   "metadata": {},
   "outputs": [
    {
     "data": {
      "text/plain": [
       "<matplotlib.image.AxesImage at 0x7fe0b84fec90>"
      ]
     },
     "execution_count": 33,
     "metadata": {},
     "output_type": "execute_result"
    },
    {
     "data": {
      "image/png": "[encoded data removed]",
      "text/plain": [
       "<Figure size 640x480 with 1 Axes>"
      ]
     },
     "metadata": {},
     "output_type": "display_data"
    }
   ],
   "source": [
    "best_cross_MAP_params = prob_model.bij.forward(list(map_estimate[161]))\n",
    "\n",
    "# Simulates the lensed image, bs=1 means simulator processes one lens system per batch (we just want a single simulated image)\n",
    "lens_sim = LensSimulator(phys_model, sim_config, bs=1)\n",
    "simulated_cross = lens_sim.simulate(best_cross_MAP_params)\n",
    "plt.imshow(simulated_cross)"
   ]
  },
  {
   "cell_type": "code",
   "execution_count": null,
   "id": "39f191bf-9833-432e-9536-eac52c4fa9de",
   "metadata": {},
   "outputs": [],
   "source": []
  }
 ],
 "metadata": {
  "kernelspec": {
   "display_name": "JAX GIGALENS",
   "language": "python",
   "name": "jax-gigalens-kernel"
  },
  "language_info": {
   "codemirror_mode": {
    "name": "ipython",
    "version": 3
   },
   "file_extension": ".py",
   "mimetype": "text/x-python",
   "name": "python",
   "nbconvert_exporter": "python",
   "pygments_lexer": "ipython3",
   "version": "3.11.9"
  }
 },
 "nbformat": 4,
 "nbformat_minor": 5
}
